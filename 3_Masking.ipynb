{
 "cells": [
  {
   "cell_type": "code",
   "execution_count": 1,
   "metadata": {},
   "outputs": [],
   "source": [
    "import nibabel as nb\n",
    "import math\n",
    "import numpy as np\n",
    "import matplotlib.pyplot as plt\n",
    "import pandas as pd\n",
    "import os\n",
    "from os.path import join\n",
    "from glob import glob as glob\n",
    "import pathos.multiprocessing as multiprocessing\n",
    "from functools import partial\n",
    "import nighres\n",
    "import csv\n",
    "import subprocess\n",
    "#%pylab"
   ]
  },
  {
   "cell_type": "code",
   "execution_count": 2,
   "metadata": {},
   "outputs": [],
   "source": [
    "source_dir = '/data/neuralabc/source/MPI_CBS/MPM_DTI/source/'\n",
    "mask_dir = '/data/neuralabc/carfra/QuantMetComp/source/masks_created/'\n",
    "\n",
    "all_dirs = glob(join(source_dir,'*'))\n",
    "sub_ids = [os.path.basename(x) for x in all_dirs]\n",
    "name = ['FA','MD','MTsat','PDsat','R1','$R2^*$']  #hard-coded, but I know what they are!"
   ]
  },
  {
   "cell_type": "markdown",
   "metadata": {},
   "source": [
    "# Extract mask for R2"
   ]
  },
  {
   "cell_type": "code",
   "execution_count": 25,
   "metadata": {},
   "outputs": [
    {
     "name": "stderr",
     "output_type": "stream",
     "text": [
      "/opt/quarantine/anaconda3/2019.10/install/lib/python3.7/site-packages/ipykernel_launcher.py:5: DeprecationWarning: get_data() is deprecated in favor of get_fdata(), which has a more predictable return type. To obtain get_data() behavior going forward, use numpy.asanyarray(img.dataobj).\n",
      "\n",
      "* deprecated from version: 3.0\n",
      "* Will raise <class 'nibabel.deprecator.ExpiredDeprecationError'> as of version: 5.0\n",
      "  \"\"\"\n"
     ]
    }
   ],
   "source": [
    "metric = \"_MD_reg\"\n",
    "val = 0.001\n",
    "for sub_id in sub_ids:\n",
    "    mtrc = nb.load(join(source_dir,sub_id,sub_id+metric+\".nii.gz\"))\n",
    "    mtrc_d = mtrc.get_data()\n",
    "    msk = np.zeros_like(mtrc_d)\n",
    "    msk[mtrc_d>val] = 1\n",
    "    #ls_d[ls_d<-10] = -10\n",
    "    img = nb.Nifti1Image(msk,affine=mtrc.affine,header=mtrc.header)\n",
    "    img.to_filename(join(mask_dir,sub_id,'mask'+metric+'0_001'+'.nii.gz'))\n",
    "    "
   ]
  },
  {
   "cell_type": "markdown",
   "metadata": {},
   "source": [
    "# remove mask from other masks"
   ]
  },
  {
   "cell_type": "code",
   "execution_count": 44,
   "metadata": {},
   "outputs": [
    {
     "name": "stderr",
     "output_type": "stream",
     "text": [
      "/opt/quarantine/anaconda3/2019.10/install/lib/python3.7/site-packages/ipykernel_launcher.py:9: DeprecationWarning: get_data() is deprecated in favor of get_fdata(), which has a more predictable return type. To obtain get_data() behavior going forward, use numpy.asanyarray(img.dataobj).\n",
      "\n",
      "* deprecated from version: 3.0\n",
      "* Will raise <class 'nibabel.deprecator.ExpiredDeprecationError'> as of version: 5.0\n",
      "  if __name__ == '__main__':\n",
      "/opt/quarantine/anaconda3/2019.10/install/lib/python3.7/site-packages/ipykernel_launcher.py:11: DeprecationWarning: get_data() is deprecated in favor of get_fdata(), which has a more predictable return type. To obtain get_data() behavior going forward, use numpy.asanyarray(img.dataobj).\n",
      "\n",
      "* deprecated from version: 3.0\n",
      "* Will raise <class 'nibabel.deprecator.ExpiredDeprecationError'> as of version: 5.0\n",
      "  # This is added back by InteractiveShellApp.init_path()\n",
      "/opt/quarantine/anaconda3/2019.10/install/lib/python3.7/site-packages/ipykernel_launcher.py:13: DeprecationWarning: get_data() is deprecated in favor of get_fdata(), which has a more predictable return type. To obtain get_data() behavior going forward, use numpy.asanyarray(img.dataobj).\n",
      "\n",
      "* deprecated from version: 3.0\n",
      "* Will raise <class 'nibabel.deprecator.ExpiredDeprecationError'> as of version: 5.0\n",
      "  del sys.path[0]\n"
     ]
    }
   ],
   "source": [
    "val = 25\n",
    "mask_to_remove = 'mask'+'_R2s_OLS'+str(val)+'.nii.gz'\n",
    "mask_to_remove2 = 'mask'+'_MD_reg'+'0_001'+'.nii.gz'\n",
    "remove_from = 'GM'\n",
    "name_save = remove_from+'_MD_R2_cap.nii.gz'\n",
    "\n",
    "for sub_id in sub_ids:\n",
    "    msk1 = nb.load(join(mask_dir,sub_id,remove_from+\".nii.gz\"))\n",
    "    msk1_d = msk1.get_data()\n",
    "    msk2 = nb.load(join(mask_dir,sub_id,mask_to_remove))\n",
    "    msk2_d = msk2.get_data()\n",
    "    msk3 = nb.load(join(mask_dir,sub_id,mask_to_remove2))\n",
    "    msk3_d = msk3.get_data()\n",
    "    msk1_d[msk2_d==1] = 0\n",
    "    msk1_d[msk3_d==1] = 0\n",
    "    img = nb.Nifti1Image(msk1_d,affine=msk1.affine,header=msk1.header)\n",
    "    img.to_filename(join(mask_dir,sub_id,name_save))"
   ]
  },
  {
   "cell_type": "code",
   "execution_count": null,
   "metadata": {},
   "outputs": [],
   "source": []
  }
 ],
 "metadata": {
  "kernelspec": {
   "display_name": "Python 3",
   "language": "python",
   "name": "python3"
  },
  "language_info": {
   "codemirror_mode": {
    "name": "ipython",
    "version": 3
   },
   "file_extension": ".py",
   "mimetype": "text/x-python",
   "name": "python",
   "nbconvert_exporter": "python",
   "pygments_lexer": "ipython3",
   "version": "3.8.5"
  }
 },
 "nbformat": 4,
 "nbformat_minor": 2
}
